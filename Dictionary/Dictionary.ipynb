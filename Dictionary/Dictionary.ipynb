{
 "cells": [
  {
   "cell_type": "markdown",
   "metadata": {},
   "source": [
    "# Building the dictionary"
   ]
  },
  {
   "cell_type": "code",
   "execution_count": 82,
   "metadata": {
    "collapsed": true
   },
   "outputs": [],
   "source": [
    "import nltk"
   ]
  },
  {
   "cell_type": "code",
   "execution_count": 83,
   "metadata": {},
   "outputs": [],
   "source": [
    "with codecs.open(\"indeed_2018-02-12.csv\", \"r\", encoding=\"utf-8\") as f:\n",
    "    alice = f.read()"
   ]
  },
  {
   "cell_type": "code",
   "execution_count": 84,
   "metadata": {},
   "outputs": [],
   "source": [
    "postings = open(\"indeed_2018-02-12.csv\", \"r\").read()"
   ]
  },
  {
   "cell_type": "code",
   "execution_count": 85,
   "metadata": {},
   "outputs": [],
   "source": [
    "text = BeautifulSoup(postings).get_text()"
   ]
  },
  {
   "cell_type": "code",
   "execution_count": 86,
   "metadata": {
    "collapsed": true
   },
   "outputs": [],
   "source": [
    "text_tokens = nltk.word_tokenize(text)"
   ]
  },
  {
   "cell_type": "code",
   "execution_count": 87,
   "metadata": {
    "collapsed": true
   },
   "outputs": [],
   "source": [
    "text_tags = nltk.pos_tag(text_tokens,tagset=\"universal\")"
   ]
  },
  {
   "cell_type": "code",
   "execution_count": 88,
   "metadata": {
    "scrolled": false
   },
   "outputs": [
    {
     "data": {
      "text/plain": [
       "[(u'description', u'NOUN'),\n",
       " (u\"''\", u'.'),\n",
       " (u'Microsoft', u'NOUN'),\n",
       " (u'is', u'VERB'),\n",
       " (u'making', u'VERB'),\n",
       " (u'a', u'DET'),\n",
       " (u'big', u'ADJ'),\n",
       " (u'bet', u'NOUN'),\n",
       " (u'on', u'ADP'),\n",
       " (u'Artificial', u'ADJ')]"
      ]
     },
     "execution_count": 88,
     "metadata": {},
     "output_type": "execute_result"
    }
   ],
   "source": [
    "text_tags[:10]"
   ]
  },
  {
   "cell_type": "markdown",
   "metadata": {},
   "source": [
    "# Lematization\n",
    "We filter out first the Title words which are noun and lemmatize the remaining, which requires to convert to lowercase"
   ]
  },
  {
   "cell_type": "code",
   "execution_count": 89,
   "metadata": {},
   "outputs": [],
   "source": [
    "wnlem = nltk.WordNetLemmatizer()\n",
    "filtered_text = []\n",
    "for word_tuple in text_tags:\n",
    "    if word_tuple[0].istitle() and word_tuple[1] == u\"NOUN\":\n",
    "        filtered_text.append(wnlem.lemmatize(word_tuple[0].lower()))"
   ]
  },
  {
   "cell_type": "code",
   "execution_count": 90,
   "metadata": {},
   "outputs": [],
   "source": [
    "from nltk.corpus import words\n",
    "eng_dict = words.words('en')"
   ]
  },
  {
   "cell_type": "code",
   "execution_count": 91,
   "metadata": {},
   "outputs": [],
   "source": [
    "token_list = []\n",
    "for token in filtered_text:\n",
    "    if token not in eng_dict:\n",
    "        token_list.append(token)"
   ]
  },
  {
   "cell_type": "code",
   "execution_count": 72,
   "metadata": {},
   "outputs": [],
   "source": [
    "token_fd = nltk.FreqDist(token_list)"
   ]
  },
  {
   "cell_type": "code",
   "execution_count": 81,
   "metadata": {},
   "outputs": [],
   "source": [
    "import csv\n",
    "\n",
    "with open(\"fdist.csv\", \"wb\") as fp:\n",
    "    writer = csv.writer(fp, quoting=csv.QUOTE_ALL)\n",
    "    for key, count in token_fd.most_common(2000):\n",
    "        writer.writerow([key, count])"
   ]
  },
  {
   "cell_type": "code",
   "execution_count": null,
   "metadata": {
    "collapsed": true
   },
   "outputs": [],
   "source": []
  }
 ],
 "metadata": {
  "kernelspec": {
   "display_name": "Python 2",
   "language": "python",
   "name": "python2"
  },
  "language_info": {
   "codemirror_mode": {
    "name": "ipython",
    "version": 2
   },
   "file_extension": ".py",
   "mimetype": "text/x-python",
   "name": "python",
   "nbconvert_exporter": "python",
   "pygments_lexer": "ipython2",
   "version": "2.7.14"
  }
 },
 "nbformat": 4,
 "nbformat_minor": 1
}
